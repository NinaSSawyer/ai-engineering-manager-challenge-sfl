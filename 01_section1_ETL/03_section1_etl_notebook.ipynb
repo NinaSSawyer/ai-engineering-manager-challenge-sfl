{
 "cells": [
  {
   "cell_type": "code",
   "execution_count": 1,
   "id": "a2758623",
   "metadata": {},
   "outputs": [],
   "source": [
    "#Importing relevant packages\n",
    "import pandas as pd\n",
    "import seaborn as sns\n",
    "import matplotlib.pyplot as plt\n",
    "\n",
    "from sqlalchemy import create_engine"
   ]
  },
  {
   "cell_type": "code",
   "execution_count": 2,
   "id": "d9e185a6",
   "metadata": {},
   "outputs": [
    {
     "data": {
      "text/html": [
       "<div>\n",
       "<style scoped>\n",
       "    .dataframe tbody tr th:only-of-type {\n",
       "        vertical-align: middle;\n",
       "    }\n",
       "\n",
       "    .dataframe tbody tr th {\n",
       "        vertical-align: top;\n",
       "    }\n",
       "\n",
       "    .dataframe thead th {\n",
       "        text-align: right;\n",
       "    }\n",
       "</style>\n",
       "<table border=\"1\" class=\"dataframe\">\n",
       "  <thead>\n",
       "    <tr style=\"text-align: right;\">\n",
       "      <th></th>\n",
       "      <th>id</th>\n",
       "      <th>first_name</th>\n",
       "      <th>last_name</th>\n",
       "      <th>email</th>\n",
       "      <th>gender</th>\n",
       "      <th>ip_address</th>\n",
       "    </tr>\n",
       "  </thead>\n",
       "  <tbody>\n",
       "    <tr>\n",
       "      <th>0</th>\n",
       "      <td>1</td>\n",
       "      <td>Margaretta</td>\n",
       "      <td>Laughtisse</td>\n",
       "      <td>mlaughtisse0@mediafire.com</td>\n",
       "      <td>Genderfluid</td>\n",
       "      <td>34.148.232.131</td>\n",
       "    </tr>\n",
       "    <tr>\n",
       "      <th>1</th>\n",
       "      <td>2</td>\n",
       "      <td>Vally</td>\n",
       "      <td>Garment</td>\n",
       "      <td>vgarment1@wisc.edu</td>\n",
       "      <td>Bigender</td>\n",
       "      <td>15.158.123.36</td>\n",
       "    </tr>\n",
       "    <tr>\n",
       "      <th>2</th>\n",
       "      <td>3</td>\n",
       "      <td>Tessa</td>\n",
       "      <td>Curee</td>\n",
       "      <td>tcuree2@php.net</td>\n",
       "      <td>Bigender</td>\n",
       "      <td>132.209.143.225</td>\n",
       "    </tr>\n",
       "    <tr>\n",
       "      <th>3</th>\n",
       "      <td>4</td>\n",
       "      <td>Arman</td>\n",
       "      <td>Heineking</td>\n",
       "      <td>aheineking3@tuttocitta.it</td>\n",
       "      <td>Male</td>\n",
       "      <td>157.110.61.233</td>\n",
       "    </tr>\n",
       "    <tr>\n",
       "      <th>4</th>\n",
       "      <td>5</td>\n",
       "      <td>Roselia</td>\n",
       "      <td>Trustie</td>\n",
       "      <td>rtrustie4@ft.com</td>\n",
       "      <td>Non-binary</td>\n",
       "      <td>49.55.218.81</td>\n",
       "    </tr>\n",
       "  </tbody>\n",
       "</table>\n",
       "</div>"
      ],
      "text/plain": [
       "   id  first_name   last_name                       email       gender  \\\n",
       "0   1  Margaretta  Laughtisse  mlaughtisse0@mediafire.com  Genderfluid   \n",
       "1   2       Vally     Garment          vgarment1@wisc.edu     Bigender   \n",
       "2   3       Tessa       Curee             tcuree2@php.net     Bigender   \n",
       "3   4       Arman   Heineking   aheineking3@tuttocitta.it         Male   \n",
       "4   5     Roselia     Trustie            rtrustie4@ft.com   Non-binary   \n",
       "\n",
       "        ip_address  \n",
       "0   34.148.232.131  \n",
       "1    15.158.123.36  \n",
       "2  132.209.143.225  \n",
       "3   157.110.61.233  \n",
       "4     49.55.218.81  "
      ]
     },
     "execution_count": 2,
     "metadata": {},
     "output_type": "execute_result"
    }
   ],
   "source": [
    "#Grabbing the data and looking at initial values\n",
    "df = pd.read_excel('E:\\HDD Docs\\Career Stuff\\Deloitte\\DEM_Challenge_Section1_DATASET.xlsx')\n",
    "df.head()"
   ]
  },
  {
   "cell_type": "code",
   "execution_count": 3,
   "id": "3f056145",
   "metadata": {},
   "outputs": [
    {
     "name": "stdout",
     "output_type": "stream",
     "text": [
      "<class 'pandas.core.frame.DataFrame'>\n",
      "RangeIndex: 1000 entries, 0 to 999\n",
      "Data columns (total 6 columns):\n",
      " #   Column      Non-Null Count  Dtype \n",
      "---  ------      --------------  ----- \n",
      " 0   id          1000 non-null   int64 \n",
      " 1   first_name  1000 non-null   object\n",
      " 2   last_name   1000 non-null   object\n",
      " 3   email       1000 non-null   object\n",
      " 4   gender      1000 non-null   object\n",
      " 5   ip_address  1000 non-null   object\n",
      "dtypes: int64(1), object(5)\n",
      "memory usage: 47.0+ KB\n"
     ]
    }
   ],
   "source": [
    "#Checking column info\n",
    "df.info()"
   ]
  },
  {
   "cell_type": "code",
   "execution_count": 4,
   "id": "7f28c027",
   "metadata": {},
   "outputs": [
    {
     "data": {
      "text/plain": [
       "id            0\n",
       "first_name    0\n",
       "last_name     0\n",
       "email         0\n",
       "gender        0\n",
       "ip_address    0\n",
       "dtype: int64"
      ]
     },
     "execution_count": 4,
     "metadata": {},
     "output_type": "execute_result"
    }
   ],
   "source": [
    "#Looking for null/missing values within columns\n",
    "df.isnull().sum()"
   ]
  },
  {
   "cell_type": "code",
   "execution_count": 5,
   "id": "8a09b3d3",
   "metadata": {},
   "outputs": [
    {
     "data": {
      "text/html": [
       "<div>\n",
       "<style scoped>\n",
       "    .dataframe tbody tr th:only-of-type {\n",
       "        vertical-align: middle;\n",
       "    }\n",
       "\n",
       "    .dataframe tbody tr th {\n",
       "        vertical-align: top;\n",
       "    }\n",
       "\n",
       "    .dataframe thead th {\n",
       "        text-align: right;\n",
       "    }\n",
       "</style>\n",
       "<table border=\"1\" class=\"dataframe\">\n",
       "  <thead>\n",
       "    <tr style=\"text-align: right;\">\n",
       "      <th></th>\n",
       "      <th>id</th>\n",
       "      <th>first_name</th>\n",
       "      <th>last_name</th>\n",
       "      <th>email</th>\n",
       "      <th>gender</th>\n",
       "      <th>ip_address</th>\n",
       "    </tr>\n",
       "  </thead>\n",
       "  <tbody>\n",
       "  </tbody>\n",
       "</table>\n",
       "</div>"
      ],
      "text/plain": [
       "Empty DataFrame\n",
       "Columns: [id, first_name, last_name, email, gender, ip_address]\n",
       "Index: []"
      ]
     },
     "execution_count": 5,
     "metadata": {},
     "output_type": "execute_result"
    }
   ],
   "source": [
    "#Checking for duplicate email entries\n",
    "df2 = df[df.duplicated('email', keep=False)]\n",
    "df2.head()"
   ]
  },
  {
   "cell_type": "code",
   "execution_count": 6,
   "id": "d651aa51",
   "metadata": {},
   "outputs": [],
   "source": [
    "# Define a function to classify email domains into general categories\n",
    "def categorize_domain(domain):\n",
    "    # Check if the domain is academic (ends with .edu)\n",
    "    if domain.endswith('.edu'):\n",
    "        return 'Academic'\n",
    "    # Check if the domain is a common personal email provider\n",
    "    elif domain in ['gmail.com', 'yahoo.com', 'outlook.com']:\n",
    "        return 'Personal'\n",
    "    # Otherwise, treat it as a corporate or less common domain\n",
    "    else:\n",
    "        return 'Corporate'"
   ]
  },
  {
   "cell_type": "code",
   "execution_count": 7,
   "id": "33d225fa",
   "metadata": {},
   "outputs": [],
   "source": [
    "# Extract the domain portion from each email address\n",
    "df['email_domain'] = df['email'].str.split('@').str[-1]\n",
    "\n",
    "# Apply the domain categorization function to create a new column\n",
    "df['email_type'] = df['email_domain'].apply(categorize_domain)"
   ]
  },
  {
   "cell_type": "code",
   "execution_count": 8,
   "id": "d3d5d208",
   "metadata": {},
   "outputs": [],
   "source": [
    "#The dataset looks exceptionally clean--so I begin to think of business applications\n",
    "#The gender column is fantastic, but campaign strategy will likely segment into one of three values\n",
    "#Let's check how many values exist and see if we can group in"
   ]
  },
  {
   "cell_type": "code",
   "execution_count": 9,
   "id": "0ea8f46c",
   "metadata": {},
   "outputs": [
    {
     "data": {
      "image/png": "[encoded data removed]",
      "text/plain": [
       "<Figure size 1000x600 with 1 Axes>"
      ]
     },
     "metadata": {},
     "output_type": "display_data"
    }
   ],
   "source": [
    "#Count values\n",
    "gender_counts = df['gender'].value_counts().reset_index()\n",
    "gender_counts.columns = ['gender', 'count']\n",
    "\n",
    "#Plot\n",
    "plt.figure(figsize=(10, 6))\n",
    "sns.barplot(data=gender_counts, x='gender', y='count', hue='gender', palette='rocket', legend=False)\n",
    "plt.title(\"Gender Distribution\")\n",
    "plt.xlabel(\"Gender\")\n",
    "plt.ylabel(\"Count\")\n",
    "plt.xticks(rotation=45)\n",
    "plt.tight_layout()\n",
    "plt.show()"
   ]
  },
  {
   "cell_type": "code",
   "execution_count": 10,
   "id": "9015cb6f",
   "metadata": {},
   "outputs": [],
   "source": [
    "#Define a function to categorize gender values into broader groups\n",
    "def simplify_gender(g):\n",
    "#Normalize and categorize binary genders\n",
    "    if g.lower() in ['male', 'female']:\n",
    "        return 'Binary'\n",
    "#Identify and group nonbinary or gender-diverse entries\n",
    "    elif 'non' in g.lower() or 'gender' in g.lower():\n",
    "        return 'Nonbinary'\n",
    "#Everything else (e.g., undefined, uncommon labels) goes into 'Other'\n",
    "    else:\n",
    "        return 'Other'"
   ]
  },
  {
   "cell_type": "code",
   "execution_count": 11,
   "id": "5b698679",
   "metadata": {},
   "outputs": [
    {
     "data": {
      "text/html": [
       "<div>\n",
       "<style scoped>\n",
       "    .dataframe tbody tr th:only-of-type {\n",
       "        vertical-align: middle;\n",
       "    }\n",
       "\n",
       "    .dataframe tbody tr th {\n",
       "        vertical-align: top;\n",
       "    }\n",
       "\n",
       "    .dataframe thead th {\n",
       "        text-align: right;\n",
       "    }\n",
       "</style>\n",
       "<table border=\"1\" class=\"dataframe\">\n",
       "  <thead>\n",
       "    <tr style=\"text-align: right;\">\n",
       "      <th></th>\n",
       "      <th>id</th>\n",
       "      <th>first_name</th>\n",
       "      <th>last_name</th>\n",
       "      <th>email</th>\n",
       "      <th>gender</th>\n",
       "      <th>ip_address</th>\n",
       "      <th>email_domain</th>\n",
       "      <th>email_type</th>\n",
       "      <th>gender_group</th>\n",
       "    </tr>\n",
       "  </thead>\n",
       "  <tbody>\n",
       "    <tr>\n",
       "      <th>0</th>\n",
       "      <td>1</td>\n",
       "      <td>Margaretta</td>\n",
       "      <td>Laughtisse</td>\n",
       "      <td>mlaughtisse0@mediafire.com</td>\n",
       "      <td>Genderfluid</td>\n",
       "      <td>34.148.232.131</td>\n",
       "      <td>mediafire.com</td>\n",
       "      <td>Corporate</td>\n",
       "      <td>Nonbinary</td>\n",
       "    </tr>\n",
       "    <tr>\n",
       "      <th>1</th>\n",
       "      <td>2</td>\n",
       "      <td>Vally</td>\n",
       "      <td>Garment</td>\n",
       "      <td>vgarment1@wisc.edu</td>\n",
       "      <td>Bigender</td>\n",
       "      <td>15.158.123.36</td>\n",
       "      <td>wisc.edu</td>\n",
       "      <td>Academic</td>\n",
       "      <td>Nonbinary</td>\n",
       "    </tr>\n",
       "    <tr>\n",
       "      <th>2</th>\n",
       "      <td>3</td>\n",
       "      <td>Tessa</td>\n",
       "      <td>Curee</td>\n",
       "      <td>tcuree2@php.net</td>\n",
       "      <td>Bigender</td>\n",
       "      <td>132.209.143.225</td>\n",
       "      <td>php.net</td>\n",
       "      <td>Corporate</td>\n",
       "      <td>Nonbinary</td>\n",
       "    </tr>\n",
       "    <tr>\n",
       "      <th>3</th>\n",
       "      <td>4</td>\n",
       "      <td>Arman</td>\n",
       "      <td>Heineking</td>\n",
       "      <td>aheineking3@tuttocitta.it</td>\n",
       "      <td>Male</td>\n",
       "      <td>157.110.61.233</td>\n",
       "      <td>tuttocitta.it</td>\n",
       "      <td>Corporate</td>\n",
       "      <td>Binary</td>\n",
       "    </tr>\n",
       "    <tr>\n",
       "      <th>4</th>\n",
       "      <td>5</td>\n",
       "      <td>Roselia</td>\n",
       "      <td>Trustie</td>\n",
       "      <td>rtrustie4@ft.com</td>\n",
       "      <td>Non-binary</td>\n",
       "      <td>49.55.218.81</td>\n",
       "      <td>ft.com</td>\n",
       "      <td>Corporate</td>\n",
       "      <td>Nonbinary</td>\n",
       "    </tr>\n",
       "  </tbody>\n",
       "</table>\n",
       "</div>"
      ],
      "text/plain": [
       "   id  first_name   last_name                       email       gender  \\\n",
       "0   1  Margaretta  Laughtisse  mlaughtisse0@mediafire.com  Genderfluid   \n",
       "1   2       Vally     Garment          vgarment1@wisc.edu     Bigender   \n",
       "2   3       Tessa       Curee             tcuree2@php.net     Bigender   \n",
       "3   4       Arman   Heineking   aheineking3@tuttocitta.it         Male   \n",
       "4   5     Roselia     Trustie            rtrustie4@ft.com   Non-binary   \n",
       "\n",
       "        ip_address   email_domain email_type gender_group  \n",
       "0   34.148.232.131  mediafire.com  Corporate    Nonbinary  \n",
       "1    15.158.123.36       wisc.edu   Academic    Nonbinary  \n",
       "2  132.209.143.225        php.net  Corporate    Nonbinary  \n",
       "3   157.110.61.233  tuttocitta.it  Corporate       Binary  \n",
       "4     49.55.218.81         ft.com  Corporate    Nonbinary  "
      ]
     },
     "execution_count": 11,
     "metadata": {},
     "output_type": "execute_result"
    }
   ],
   "source": [
    "#Apply the function to the 'gender' column to create a new simplified column\n",
    "df['gender_group'] = df['gender'].apply(simplify_gender)\n",
    "df.head()"
   ]
  },
  {
   "cell_type": "code",
   "execution_count": 12,
   "id": "3d0738df",
   "metadata": {},
   "outputs": [
    {
     "data": {
      "image/png": "[encoded data removed]",
      "text/plain": [
       "<Figure size 800x500 with 1 Axes>"
      ]
     },
     "metadata": {},
     "output_type": "display_data"
    }
   ],
   "source": [
    "#Count values in the new gender_group column\n",
    "gender_group_counts = df['gender_group'].value_counts().reset_index()\n",
    "gender_group_counts.columns = ['gender_group', 'count']\n",
    "\n",
    "#Create the plot\n",
    "plt.figure(figsize=(8, 5))\n",
    "sns.barplot(data=gender_group_counts, x='gender_group', y='count', hue='gender_group', palette='viridis', legend=False)\n",
    "plt.title(\"Simplified Gender Group Distribution\")\n",
    "plt.xlabel(\"Gender Group\")\n",
    "plt.ylabel(\"Count\")\n",
    "plt.tight_layout()\n",
    "plt.show()"
   ]
  },
  {
   "cell_type": "code",
   "execution_count": 13,
   "id": "894c727f",
   "metadata": {},
   "outputs": [],
   "source": [
    "#Define database connection parameters\n",
    "username = 'nina'\n",
    "password = 'password123'\n",
    "host = 'localhost'\n",
    "port = '5432'\n",
    "database = 'challenge_db'\n",
    "table_name = 'chemberta_dataset'"
   ]
  },
  {
   "cell_type": "code",
   "execution_count": 14,
   "id": "418f645d",
   "metadata": {},
   "outputs": [
    {
     "data": {
      "text/plain": [
       "1000"
      ]
     },
     "execution_count": 14,
     "metadata": {},
     "output_type": "execute_result"
    }
   ],
   "source": [
    "# Create connection string and engine\n",
    "connection_string = f'postgresql://{username}:{password}@{host}:{port}/{database}'\n",
    "engine = create_engine(connection_string)\n",
    "\n",
    "# Load DataFrame to PostgreSQL\n",
    "df.to_sql(table_name, engine, if_exists='replace', index=False)"
   ]
  },
  {
   "cell_type": "code",
   "execution_count": 15,
   "id": "576dbc92",
   "metadata": {},
   "outputs": [
    {
     "name": "stdout",
     "output_type": "stream",
     "text": [
      "Data loaded into PostgreSQL table: chemberta_dataset\n"
     ]
    }
   ],
   "source": [
    "# Confirm successful data load with a status message\n",
    "print(f\"Data loaded into PostgreSQL table: {table_name}\")"
   ]
  }
 ],
 "metadata": {
  "kernelspec": {
   "display_name": "Python 3",
   "language": "python",
   "name": "python3"
  },
  "language_info": {
   "codemirror_mode": {
    "name": "ipython",
    "version": 3
   },
   "file_extension": ".py",
   "mimetype": "text/x-python",
   "name": "python",
   "nbconvert_exporter": "python",
   "pygments_lexer": "ipython3",
   "version": "3.11.5"
  }
 },
 "nbformat": 4,
 "nbformat_minor": 5
}
